{
  "cells": [
    {
      "cell_type": "markdown",
      "metadata": {
        "id": "alIIEHibGc3M"
      },
      "source": [
        "## Part 1: Preprocessing"
      ]
    },
    {
      "cell_type": "code",
      "execution_count": 1,
      "metadata": {
        "colab": {
          "base_uri": "https://localhost:8080/",
          "height": 325
        },
        "id": "6eDUJ4NtGc3P",
        "outputId": "ca6760ea-c2eb-440b-cb53-6a9b28e49a5f"
      },
      "outputs": [
        {
          "output_type": "execute_result",
          "data": {
            "text/plain": [
              "   Age Attrition     BusinessTravel              Department  DistanceFromHome  \\\n",
              "0   41       Yes      Travel_Rarely                   Sales                 1   \n",
              "1   49        No  Travel_Frequently  Research & Development                 8   \n",
              "2   37       Yes      Travel_Rarely  Research & Development                 2   \n",
              "3   33        No  Travel_Frequently  Research & Development                 3   \n",
              "4   27        No      Travel_Rarely  Research & Development                 2   \n",
              "\n",
              "   Education EducationField  EnvironmentSatisfaction  HourlyRate  \\\n",
              "0          2  Life Sciences                        2          94   \n",
              "1          1  Life Sciences                        3          61   \n",
              "2          2          Other                        4          92   \n",
              "3          4  Life Sciences                        4          56   \n",
              "4          1        Medical                        1          40   \n",
              "\n",
              "   JobInvolvement  ...  PerformanceRating RelationshipSatisfaction  \\\n",
              "0               3  ...                  3                        1   \n",
              "1               2  ...                  4                        4   \n",
              "2               2  ...                  3                        2   \n",
              "3               3  ...                  3                        3   \n",
              "4               3  ...                  3                        4   \n",
              "\n",
              "   StockOptionLevel TotalWorkingYears  TrainingTimesLastYear WorkLifeBalance  \\\n",
              "0                 0                 8                      0               1   \n",
              "1                 1                10                      3               3   \n",
              "2                 0                 7                      3               3   \n",
              "3                 0                 8                      3               3   \n",
              "4                 1                 6                      3               3   \n",
              "\n",
              "   YearsAtCompany  YearsInCurrentRole  YearsSinceLastPromotion  \\\n",
              "0               6                   4                        0   \n",
              "1              10                   7                        1   \n",
              "2               0                   0                        0   \n",
              "3               8                   7                        3   \n",
              "4               2                   2                        2   \n",
              "\n",
              "   YearsWithCurrManager  \n",
              "0                     5  \n",
              "1                     7  \n",
              "2                     0  \n",
              "3                     0  \n",
              "4                     2  \n",
              "\n",
              "[5 rows x 27 columns]"
            ],
            "text/html": [
              "\n",
              "  <div id=\"df-39951323-042f-4f83-b94f-b8a6b71e9376\" class=\"colab-df-container\">\n",
              "    <div>\n",
              "<style scoped>\n",
              "    .dataframe tbody tr th:only-of-type {\n",
              "        vertical-align: middle;\n",
              "    }\n",
              "\n",
              "    .dataframe tbody tr th {\n",
              "        vertical-align: top;\n",
              "    }\n",
              "\n",
              "    .dataframe thead th {\n",
              "        text-align: right;\n",
              "    }\n",
              "</style>\n",
              "<table border=\"1\" class=\"dataframe\">\n",
              "  <thead>\n",
              "    <tr style=\"text-align: right;\">\n",
              "      <th></th>\n",
              "      <th>Age</th>\n",
              "      <th>Attrition</th>\n",
              "      <th>BusinessTravel</th>\n",
              "      <th>Department</th>\n",
              "      <th>DistanceFromHome</th>\n",
              "      <th>Education</th>\n",
              "      <th>EducationField</th>\n",
              "      <th>EnvironmentSatisfaction</th>\n",
              "      <th>HourlyRate</th>\n",
              "      <th>JobInvolvement</th>\n",
              "      <th>...</th>\n",
              "      <th>PerformanceRating</th>\n",
              "      <th>RelationshipSatisfaction</th>\n",
              "      <th>StockOptionLevel</th>\n",
              "      <th>TotalWorkingYears</th>\n",
              "      <th>TrainingTimesLastYear</th>\n",
              "      <th>WorkLifeBalance</th>\n",
              "      <th>YearsAtCompany</th>\n",
              "      <th>YearsInCurrentRole</th>\n",
              "      <th>YearsSinceLastPromotion</th>\n",
              "      <th>YearsWithCurrManager</th>\n",
              "    </tr>\n",
              "  </thead>\n",
              "  <tbody>\n",
              "    <tr>\n",
              "      <th>0</th>\n",
              "      <td>41</td>\n",
              "      <td>Yes</td>\n",
              "      <td>Travel_Rarely</td>\n",
              "      <td>Sales</td>\n",
              "      <td>1</td>\n",
              "      <td>2</td>\n",
              "      <td>Life Sciences</td>\n",
              "      <td>2</td>\n",
              "      <td>94</td>\n",
              "      <td>3</td>\n",
              "      <td>...</td>\n",
              "      <td>3</td>\n",
              "      <td>1</td>\n",
              "      <td>0</td>\n",
              "      <td>8</td>\n",
              "      <td>0</td>\n",
              "      <td>1</td>\n",
              "      <td>6</td>\n",
              "      <td>4</td>\n",
              "      <td>0</td>\n",
              "      <td>5</td>\n",
              "    </tr>\n",
              "    <tr>\n",
              "      <th>1</th>\n",
              "      <td>49</td>\n",
              "      <td>No</td>\n",
              "      <td>Travel_Frequently</td>\n",
              "      <td>Research &amp; Development</td>\n",
              "      <td>8</td>\n",
              "      <td>1</td>\n",
              "      <td>Life Sciences</td>\n",
              "      <td>3</td>\n",
              "      <td>61</td>\n",
              "      <td>2</td>\n",
              "      <td>...</td>\n",
              "      <td>4</td>\n",
              "      <td>4</td>\n",
              "      <td>1</td>\n",
              "      <td>10</td>\n",
              "      <td>3</td>\n",
              "      <td>3</td>\n",
              "      <td>10</td>\n",
              "      <td>7</td>\n",
              "      <td>1</td>\n",
              "      <td>7</td>\n",
              "    </tr>\n",
              "    <tr>\n",
              "      <th>2</th>\n",
              "      <td>37</td>\n",
              "      <td>Yes</td>\n",
              "      <td>Travel_Rarely</td>\n",
              "      <td>Research &amp; Development</td>\n",
              "      <td>2</td>\n",
              "      <td>2</td>\n",
              "      <td>Other</td>\n",
              "      <td>4</td>\n",
              "      <td>92</td>\n",
              "      <td>2</td>\n",
              "      <td>...</td>\n",
              "      <td>3</td>\n",
              "      <td>2</td>\n",
              "      <td>0</td>\n",
              "      <td>7</td>\n",
              "      <td>3</td>\n",
              "      <td>3</td>\n",
              "      <td>0</td>\n",
              "      <td>0</td>\n",
              "      <td>0</td>\n",
              "      <td>0</td>\n",
              "    </tr>\n",
              "    <tr>\n",
              "      <th>3</th>\n",
              "      <td>33</td>\n",
              "      <td>No</td>\n",
              "      <td>Travel_Frequently</td>\n",
              "      <td>Research &amp; Development</td>\n",
              "      <td>3</td>\n",
              "      <td>4</td>\n",
              "      <td>Life Sciences</td>\n",
              "      <td>4</td>\n",
              "      <td>56</td>\n",
              "      <td>3</td>\n",
              "      <td>...</td>\n",
              "      <td>3</td>\n",
              "      <td>3</td>\n",
              "      <td>0</td>\n",
              "      <td>8</td>\n",
              "      <td>3</td>\n",
              "      <td>3</td>\n",
              "      <td>8</td>\n",
              "      <td>7</td>\n",
              "      <td>3</td>\n",
              "      <td>0</td>\n",
              "    </tr>\n",
              "    <tr>\n",
              "      <th>4</th>\n",
              "      <td>27</td>\n",
              "      <td>No</td>\n",
              "      <td>Travel_Rarely</td>\n",
              "      <td>Research &amp; Development</td>\n",
              "      <td>2</td>\n",
              "      <td>1</td>\n",
              "      <td>Medical</td>\n",
              "      <td>1</td>\n",
              "      <td>40</td>\n",
              "      <td>3</td>\n",
              "      <td>...</td>\n",
              "      <td>3</td>\n",
              "      <td>4</td>\n",
              "      <td>1</td>\n",
              "      <td>6</td>\n",
              "      <td>3</td>\n",
              "      <td>3</td>\n",
              "      <td>2</td>\n",
              "      <td>2</td>\n",
              "      <td>2</td>\n",
              "      <td>2</td>\n",
              "    </tr>\n",
              "  </tbody>\n",
              "</table>\n",
              "<p>5 rows × 27 columns</p>\n",
              "</div>\n",
              "    <div class=\"colab-df-buttons\">\n",
              "\n",
              "  <div class=\"colab-df-container\">\n",
              "    <button class=\"colab-df-convert\" onclick=\"convertToInteractive('df-39951323-042f-4f83-b94f-b8a6b71e9376')\"\n",
              "            title=\"Convert this dataframe to an interactive table.\"\n",
              "            style=\"display:none;\">\n",
              "\n",
              "  <svg xmlns=\"http://www.w3.org/2000/svg\" height=\"24px\" viewBox=\"0 -960 960 960\">\n",
              "    <path d=\"M120-120v-720h720v720H120Zm60-500h600v-160H180v160Zm220 220h160v-160H400v160Zm0 220h160v-160H400v160ZM180-400h160v-160H180v160Zm440 0h160v-160H620v160ZM180-180h160v-160H180v160Zm440 0h160v-160H620v160Z\"/>\n",
              "  </svg>\n",
              "    </button>\n",
              "\n",
              "  <style>\n",
              "    .colab-df-container {\n",
              "      display:flex;\n",
              "      gap: 12px;\n",
              "    }\n",
              "\n",
              "    .colab-df-convert {\n",
              "      background-color: #E8F0FE;\n",
              "      border: none;\n",
              "      border-radius: 50%;\n",
              "      cursor: pointer;\n",
              "      display: none;\n",
              "      fill: #1967D2;\n",
              "      height: 32px;\n",
              "      padding: 0 0 0 0;\n",
              "      width: 32px;\n",
              "    }\n",
              "\n",
              "    .colab-df-convert:hover {\n",
              "      background-color: #E2EBFA;\n",
              "      box-shadow: 0px 1px 2px rgba(60, 64, 67, 0.3), 0px 1px 3px 1px rgba(60, 64, 67, 0.15);\n",
              "      fill: #174EA6;\n",
              "    }\n",
              "\n",
              "    .colab-df-buttons div {\n",
              "      margin-bottom: 4px;\n",
              "    }\n",
              "\n",
              "    [theme=dark] .colab-df-convert {\n",
              "      background-color: #3B4455;\n",
              "      fill: #D2E3FC;\n",
              "    }\n",
              "\n",
              "    [theme=dark] .colab-df-convert:hover {\n",
              "      background-color: #434B5C;\n",
              "      box-shadow: 0px 1px 3px 1px rgba(0, 0, 0, 0.15);\n",
              "      filter: drop-shadow(0px 1px 2px rgba(0, 0, 0, 0.3));\n",
              "      fill: #FFFFFF;\n",
              "    }\n",
              "  </style>\n",
              "\n",
              "    <script>\n",
              "      const buttonEl =\n",
              "        document.querySelector('#df-39951323-042f-4f83-b94f-b8a6b71e9376 button.colab-df-convert');\n",
              "      buttonEl.style.display =\n",
              "        google.colab.kernel.accessAllowed ? 'block' : 'none';\n",
              "\n",
              "      async function convertToInteractive(key) {\n",
              "        const element = document.querySelector('#df-39951323-042f-4f83-b94f-b8a6b71e9376');\n",
              "        const dataTable =\n",
              "          await google.colab.kernel.invokeFunction('convertToInteractive',\n",
              "                                                    [key], {});\n",
              "        if (!dataTable) return;\n",
              "\n",
              "        const docLinkHtml = 'Like what you see? Visit the ' +\n",
              "          '<a target=\"_blank\" href=https://colab.research.google.com/notebooks/data_table.ipynb>data table notebook</a>'\n",
              "          + ' to learn more about interactive tables.';\n",
              "        element.innerHTML = '';\n",
              "        dataTable['output_type'] = 'display_data';\n",
              "        await google.colab.output.renderOutput(dataTable, element);\n",
              "        const docLink = document.createElement('div');\n",
              "        docLink.innerHTML = docLinkHtml;\n",
              "        element.appendChild(docLink);\n",
              "      }\n",
              "    </script>\n",
              "  </div>\n",
              "\n",
              "\n",
              "<div id=\"df-38880e44-8b0c-4c67-a0b7-f66c05d7199b\">\n",
              "  <button class=\"colab-df-quickchart\" onclick=\"quickchart('df-38880e44-8b0c-4c67-a0b7-f66c05d7199b')\"\n",
              "            title=\"Suggest charts\"\n",
              "            style=\"display:none;\">\n",
              "\n",
              "<svg xmlns=\"http://www.w3.org/2000/svg\" height=\"24px\"viewBox=\"0 0 24 24\"\n",
              "     width=\"24px\">\n",
              "    <g>\n",
              "        <path d=\"M19 3H5c-1.1 0-2 .9-2 2v14c0 1.1.9 2 2 2h14c1.1 0 2-.9 2-2V5c0-1.1-.9-2-2-2zM9 17H7v-7h2v7zm4 0h-2V7h2v10zm4 0h-2v-4h2v4z\"/>\n",
              "    </g>\n",
              "</svg>\n",
              "  </button>\n",
              "\n",
              "<style>\n",
              "  .colab-df-quickchart {\n",
              "      --bg-color: #E8F0FE;\n",
              "      --fill-color: #1967D2;\n",
              "      --hover-bg-color: #E2EBFA;\n",
              "      --hover-fill-color: #174EA6;\n",
              "      --disabled-fill-color: #AAA;\n",
              "      --disabled-bg-color: #DDD;\n",
              "  }\n",
              "\n",
              "  [theme=dark] .colab-df-quickchart {\n",
              "      --bg-color: #3B4455;\n",
              "      --fill-color: #D2E3FC;\n",
              "      --hover-bg-color: #434B5C;\n",
              "      --hover-fill-color: #FFFFFF;\n",
              "      --disabled-bg-color: #3B4455;\n",
              "      --disabled-fill-color: #666;\n",
              "  }\n",
              "\n",
              "  .colab-df-quickchart {\n",
              "    background-color: var(--bg-color);\n",
              "    border: none;\n",
              "    border-radius: 50%;\n",
              "    cursor: pointer;\n",
              "    display: none;\n",
              "    fill: var(--fill-color);\n",
              "    height: 32px;\n",
              "    padding: 0;\n",
              "    width: 32px;\n",
              "  }\n",
              "\n",
              "  .colab-df-quickchart:hover {\n",
              "    background-color: var(--hover-bg-color);\n",
              "    box-shadow: 0 1px 2px rgba(60, 64, 67, 0.3), 0 1px 3px 1px rgba(60, 64, 67, 0.15);\n",
              "    fill: var(--button-hover-fill-color);\n",
              "  }\n",
              "\n",
              "  .colab-df-quickchart-complete:disabled,\n",
              "  .colab-df-quickchart-complete:disabled:hover {\n",
              "    background-color: var(--disabled-bg-color);\n",
              "    fill: var(--disabled-fill-color);\n",
              "    box-shadow: none;\n",
              "  }\n",
              "\n",
              "  .colab-df-spinner {\n",
              "    border: 2px solid var(--fill-color);\n",
              "    border-color: transparent;\n",
              "    border-bottom-color: var(--fill-color);\n",
              "    animation:\n",
              "      spin 1s steps(1) infinite;\n",
              "  }\n",
              "\n",
              "  @keyframes spin {\n",
              "    0% {\n",
              "      border-color: transparent;\n",
              "      border-bottom-color: var(--fill-color);\n",
              "      border-left-color: var(--fill-color);\n",
              "    }\n",
              "    20% {\n",
              "      border-color: transparent;\n",
              "      border-left-color: var(--fill-color);\n",
              "      border-top-color: var(--fill-color);\n",
              "    }\n",
              "    30% {\n",
              "      border-color: transparent;\n",
              "      border-left-color: var(--fill-color);\n",
              "      border-top-color: var(--fill-color);\n",
              "      border-right-color: var(--fill-color);\n",
              "    }\n",
              "    40% {\n",
              "      border-color: transparent;\n",
              "      border-right-color: var(--fill-color);\n",
              "      border-top-color: var(--fill-color);\n",
              "    }\n",
              "    60% {\n",
              "      border-color: transparent;\n",
              "      border-right-color: var(--fill-color);\n",
              "    }\n",
              "    80% {\n",
              "      border-color: transparent;\n",
              "      border-right-color: var(--fill-color);\n",
              "      border-bottom-color: var(--fill-color);\n",
              "    }\n",
              "    90% {\n",
              "      border-color: transparent;\n",
              "      border-bottom-color: var(--fill-color);\n",
              "    }\n",
              "  }\n",
              "</style>\n",
              "\n",
              "  <script>\n",
              "    async function quickchart(key) {\n",
              "      const quickchartButtonEl =\n",
              "        document.querySelector('#' + key + ' button');\n",
              "      quickchartButtonEl.disabled = true;  // To prevent multiple clicks.\n",
              "      quickchartButtonEl.classList.add('colab-df-spinner');\n",
              "      try {\n",
              "        const charts = await google.colab.kernel.invokeFunction(\n",
              "            'suggestCharts', [key], {});\n",
              "      } catch (error) {\n",
              "        console.error('Error during call to suggestCharts:', error);\n",
              "      }\n",
              "      quickchartButtonEl.classList.remove('colab-df-spinner');\n",
              "      quickchartButtonEl.classList.add('colab-df-quickchart-complete');\n",
              "    }\n",
              "    (() => {\n",
              "      let quickchartButtonEl =\n",
              "        document.querySelector('#df-38880e44-8b0c-4c67-a0b7-f66c05d7199b button');\n",
              "      quickchartButtonEl.style.display =\n",
              "        google.colab.kernel.accessAllowed ? 'block' : 'none';\n",
              "    })();\n",
              "  </script>\n",
              "</div>\n",
              "\n",
              "    </div>\n",
              "  </div>\n"
            ],
            "application/vnd.google.colaboratory.intrinsic+json": {
              "type": "dataframe",
              "variable_name": "attrition_df"
            }
          },
          "metadata": {},
          "execution_count": 1
        }
      ],
      "source": [
        "# Import our dependencies\n",
        "from sklearn.model_selection import train_test_split\n",
        "from sklearn.preprocessing import StandardScaler\n",
        "import pandas as pd\n",
        "import numpy as np\n",
        "from tensorflow.keras.models import Model\n",
        "from tensorflow.keras import layers\n",
        "from sklearn.preprocessing import OneHotEncoder\n",
        "\n",
        "#  Import and read the attrition data\n",
        "attrition_df = pd.read_csv('https://static.bc-edx.com/ai/ail-v-1-0/m19/lms/datasets/attrition.csv')\n",
        "attrition_df.head()\n",
        "attrition_df.head()"
      ]
    },
    {
      "cell_type": "code",
      "execution_count": 2,
      "metadata": {
        "colab": {
          "base_uri": "https://localhost:8080/"
        },
        "id": "g22aQSY4Gc3Q",
        "outputId": "763fa63a-987a-4c9e-d887-51c5306e44cd"
      },
      "outputs": [
        {
          "output_type": "execute_result",
          "data": {
            "text/plain": [
              "Age                         43\n",
              "Attrition                    2\n",
              "BusinessTravel               3\n",
              "Department                   3\n",
              "DistanceFromHome            29\n",
              "Education                    5\n",
              "EducationField               6\n",
              "EnvironmentSatisfaction      4\n",
              "HourlyRate                  71\n",
              "JobInvolvement               4\n",
              "JobLevel                     5\n",
              "JobRole                      9\n",
              "JobSatisfaction              4\n",
              "MaritalStatus                3\n",
              "NumCompaniesWorked          10\n",
              "OverTime                     2\n",
              "PercentSalaryHike           15\n",
              "PerformanceRating            2\n",
              "RelationshipSatisfaction     4\n",
              "StockOptionLevel             4\n",
              "TotalWorkingYears           40\n",
              "TrainingTimesLastYear        7\n",
              "WorkLifeBalance              4\n",
              "YearsAtCompany              37\n",
              "YearsInCurrentRole          19\n",
              "YearsSinceLastPromotion     16\n",
              "YearsWithCurrManager        18\n",
              "dtype: int64"
            ]
          },
          "metadata": {},
          "execution_count": 2
        }
      ],
      "source": [
        "# Determine the number of unique values in each column.\n",
        "attrition_df.nunique()"
      ]
    },
    {
      "cell_type": "code",
      "execution_count": 3,
      "metadata": {
        "id": "50vMgBEnJbfM"
      },
      "outputs": [],
      "source": [
        "# Create y_df with the Attrition and Department columns\n",
        "y_df = attrition_df[['Attrition','Department']]"
      ]
    },
    {
      "cell_type": "code",
      "execution_count": 4,
      "metadata": {
        "colab": {
          "base_uri": "https://localhost:8080/"
        },
        "id": "Virka0zLGc3R",
        "outputId": "bf1a1f29-dc9d-4f5e-ebb8-1167b815ffaa"
      },
      "outputs": [
        {
          "output_type": "execute_result",
          "data": {
            "text/plain": [
              "Education                   int64\n",
              "Age                         int64\n",
              "DistanceFromHome            int64\n",
              "JobSatisfaction             int64\n",
              "OverTime                   object\n",
              "StockOptionLevel            int64\n",
              "WorkLifeBalance             int64\n",
              "YearsAtCompany              int64\n",
              "YearsSinceLastPromotion     int64\n",
              "NumCompaniesWorked          int64\n",
              "HourlyRate                  int64\n",
              "dtype: object"
            ]
          },
          "metadata": {},
          "execution_count": 4
        }
      ],
      "source": [
        "# Create a list of at least 10 column names to use as X data\n",
        "Xlist = ['Education','Age','DistanceFromHome','JobSatisfaction','OverTime','StockOptionLevel',\n",
        "         'WorkLifeBalance','YearsAtCompany','YearsSinceLastPromotion','NumCompaniesWorked','HourlyRate']\n",
        "# Create X_df using your selected columns\n",
        "X_df = attrition_df[Xlist]\n",
        "\n",
        "# Show the data types for X_df\n",
        "X_df.dtypes"
      ]
    },
    {
      "cell_type": "code",
      "execution_count": 5,
      "metadata": {
        "id": "KaJfdOGUMHMR"
      },
      "outputs": [],
      "source": [
        "# Split the data into training and testing sets\n",
        "from sklearn.model_selection import train_test_split\n",
        "X_train, X_test, y_train, y_test = train_test_split(X_df, y_df)"
      ]
    },
    {
      "cell_type": "code",
      "execution_count": 6,
      "metadata": {
        "colab": {
          "base_uri": "https://localhost:8080/",
          "height": 71
        },
        "id": "NYubUJqiLCSp",
        "outputId": "4053df88-47a5-4bda-a1d5-caa73f74e119"
      },
      "outputs": [
        {
          "output_type": "display_data",
          "data": {
            "text/plain": [
              "No     1054\n",
              "Yes     416\n",
              "Name: OverTime, dtype: int64"
            ]
          },
          "metadata": {}
        }
      ],
      "source": [
        "# Convert your X data to numeric data types however you see fit\n",
        "# Add new code cells as necessary\n",
        "display(X_df['OverTime'].value_counts())\n",
        "overtime_ohe = OneHotEncoder(drop='first', handle_unknown='ignore', sparse_output=False)\n",
        "X_train['OverTime'] = overtime_ohe.fit_transform(X_train['OverTime'].values.reshape(-1,1))\n",
        "X_test['OverTime'] = overtime_ohe.fit_transform(X_test['OverTime'].values.reshape(-1,1))"
      ]
    },
    {
      "cell_type": "code",
      "execution_count": 7,
      "metadata": {
        "id": "EWA-aIA5Gc3T"
      },
      "outputs": [],
      "source": [
        "# Create a StandardScaler\n",
        "scaler = StandardScaler()\n",
        "\n",
        "# Fit the StandardScaler to the training data\n",
        "#X_train_scaled = scaler.fit_transform(X_train)\n",
        "scaler.fit(X_train)\n",
        "\n",
        "# Scale the training and testing data\n",
        "X_train_scaled = scaler.transform(X_train)\n",
        "X_test_scaled = scaler.transform(X_test)"
      ]
    },
    {
      "cell_type": "code",
      "execution_count": 8,
      "metadata": {
        "colab": {
          "base_uri": "https://localhost:8080/"
        },
        "id": "-z0Mky8vQSz4",
        "outputId": "534708e0-0b28-4744-d8d9-5b6ae4902e31"
      },
      "outputs": [
        {
          "output_type": "execute_result",
          "data": {
            "text/plain": [
              "array([[0., 0., 1.],\n",
              "       [0., 1., 0.],\n",
              "       [0., 1., 0.],\n",
              "       [0., 1., 0.],\n",
              "       [0., 1., 0.]])"
            ]
          },
          "metadata": {},
          "execution_count": 8
        }
      ],
      "source": [
        "# Create a OneHotEncoder for the Department column\n",
        "from sklearn.preprocessing import OneHotEncoder\n",
        "ohe = OneHotEncoder(sparse_output=False, handle_unknown='ignore')\n",
        "\n",
        "# Fit the encoder to the training data\n",
        "ohe.fit(y_train[['Department']])\n",
        "\n",
        "# Create two new variables by applying the encoder\n",
        "# to the training and testing data\n",
        "y_train_department_encoded = ohe.transform(y_train[['Department']])\n",
        "y_test_department_encoded = ohe.transform(y_test[['Department']])\n",
        "\n",
        "y_test_department_encoded[:5]"
      ]
    },
    {
      "cell_type": "code",
      "execution_count": 9,
      "metadata": {
        "colab": {
          "base_uri": "https://localhost:8080/"
        },
        "id": "-G4DSpvFRrk4",
        "outputId": "463094a2-0d04-4807-b42d-6472cae87e47"
      },
      "outputs": [
        {
          "output_type": "execute_result",
          "data": {
            "text/plain": [
              "array([[1., 0.],\n",
              "       [1., 0.],\n",
              "       [1., 0.],\n",
              "       [0., 1.],\n",
              "       [1., 0.]])"
            ]
          },
          "metadata": {},
          "execution_count": 9
        }
      ],
      "source": [
        "# Create a OneHotEncoder for the Attrition column\n",
        "ohe_attrition = OneHotEncoder(sparse_output=False, handle_unknown='ignore')\n",
        "\n",
        "# Fit the encoder to the training data\n",
        "ohe_attrition.fit(y_train[['Attrition']])\n",
        "\n",
        "# Create two new variables by applying the encoder\n",
        "# to the training and testing data\n",
        "y_train_attrition_encoded = ohe_attrition.transform(y_train[['Attrition']])\n",
        "y_test_attrition_encoded = ohe_attrition.transform(y_test[['Attrition']])\n",
        "\n",
        "y_test_attrition_encoded[:5]"
      ]
    },
    {
      "cell_type": "markdown",
      "metadata": {
        "id": "ykNmu_WWGc3T"
      },
      "source": [
        "## Create, Compile, and Train the Model"
      ]
    },
    {
      "cell_type": "code",
      "execution_count": 10,
      "metadata": {
        "id": "WUptZqmSGc3T"
      },
      "outputs": [],
      "source": [
        "# Find the number of columns in the X training data\n",
        "X_train_column_length = len(X_train.columns)\n",
        "\n",
        "# Create the input layer\n",
        "input = layers.Input(shape=(X_train_column_length,))\n",
        "\n",
        "# Create at least two shared layers\n",
        "shared1 = layers.Dense(units=64, activation=\"relu\", name='shared1')(input)\n",
        "shared2 = layers.Dense(units=128, activation=\"relu\", name='shared2')(shared1)"
      ]
    },
    {
      "cell_type": "code",
      "execution_count": 11,
      "metadata": {
        "id": "JukjTm2yTEqd"
      },
      "outputs": [],
      "source": [
        "# Create a branch for Department\n",
        "# with a hidden layer and an output layer\n",
        "\n",
        "# Create the hidden layer\n",
        "department_hidden = layers.Dense(units=64, activation=\"relu\", name='department_hidden')(shared2)\n",
        "\n",
        "# Create the output layer\n",
        "department_output = layers.Dense(units=3, activation=\"relu\", name='department_output')(department_hidden)"
      ]
    },
    {
      "cell_type": "code",
      "execution_count": 12,
      "metadata": {
        "id": "9OqhUiOJUBkR"
      },
      "outputs": [],
      "source": [
        "# Create a branch for Attrition\n",
        "# with a hidden layer and an output layer\n",
        "\n",
        "# Create the hidden layer\n",
        "attrition_hidden = layers.Dense(units=32, activation=\"relu\", name='attrition_hidden')(shared2)\n",
        "\n",
        "# Create the output layer\n",
        "attrition_output = layers.Dense(units=2, activation=\"relu\", name='attrition_output')(attrition_hidden)"
      ]
    },
    {
      "cell_type": "code",
      "execution_count": 13,
      "metadata": {
        "colab": {
          "base_uri": "https://localhost:8080/"
        },
        "id": "twmuejdxGc3T",
        "outputId": "726a2a0b-4642-4658-dbdc-4a2a9343b474"
      },
      "outputs": [
        {
          "output_type": "stream",
          "name": "stdout",
          "text": [
            "Model: \"model\"\n",
            "__________________________________________________________________________________________________\n",
            " Layer (type)                Output Shape                 Param #   Connected to                  \n",
            "==================================================================================================\n",
            " input_1 (InputLayer)        [(None, 11)]                 0         []                            \n",
            "                                                                                                  \n",
            " shared1 (Dense)             (None, 64)                   768       ['input_1[0][0]']             \n",
            "                                                                                                  \n",
            " shared2 (Dense)             (None, 128)                  8320      ['shared1[0][0]']             \n",
            "                                                                                                  \n",
            " department_hidden (Dense)   (None, 64)                   8256      ['shared2[0][0]']             \n",
            "                                                                                                  \n",
            " attrition_hidden (Dense)    (None, 32)                   4128      ['shared2[0][0]']             \n",
            "                                                                                                  \n",
            " department_output (Dense)   (None, 3)                    195       ['department_hidden[0][0]']   \n",
            "                                                                                                  \n",
            " attrition_output (Dense)    (None, 2)                    66        ['attrition_hidden[0][0]']    \n",
            "                                                                                                  \n",
            "==================================================================================================\n",
            "Total params: 21733 (84.89 KB)\n",
            "Trainable params: 21733 (84.89 KB)\n",
            "Non-trainable params: 0 (0.00 Byte)\n",
            "__________________________________________________________________________________________________\n"
          ]
        }
      ],
      "source": [
        "# Create the model\n",
        "nn_model = Model(inputs=input,outputs=[department_output,attrition_output])\n",
        "\n",
        "# Compile the model\n",
        "nn_model.compile(loss=\"binary_crossentropy\", optimizer=\"adam\", metrics=[\"accuracy\"])\n",
        "\n",
        "# Summarize the model\n",
        "nn_model.summary()"
      ]
    },
    {
      "cell_type": "code",
      "execution_count": 14,
      "metadata": {
        "colab": {
          "base_uri": "https://localhost:8080/"
        },
        "id": "c8oGy0dpGc3U",
        "outputId": "2cff4b34-b19b-49db-c3b6-877e80643a53",
        "scrolled": true
      },
      "outputs": [
        {
          "output_type": "stream",
          "name": "stdout",
          "text": [
            "Epoch 1/100\n",
            "35/35 [==============================] - 8s 37ms/step - loss: 2.1101 - department_output_loss: 1.1938 - attrition_output_loss: 0.9164 - department_output_accuracy: 0.5127 - attrition_output_accuracy: 0.8194 - val_loss: 1.3378 - val_department_output_loss: 0.6239 - val_attrition_output_loss: 0.7139 - val_department_output_accuracy: 0.6549 - val_attrition_output_accuracy: 0.8261\n",
            "Epoch 2/100\n",
            "35/35 [==============================] - 0s 14ms/step - loss: 1.1992 - department_output_loss: 0.6135 - attrition_output_loss: 0.5857 - department_output_accuracy: 0.6334 - attrition_output_accuracy: 0.8494 - val_loss: 1.3817 - val_department_output_loss: 0.6592 - val_attrition_output_loss: 0.7225 - val_department_output_accuracy: 0.6630 - val_attrition_output_accuracy: 0.8234\n",
            "Epoch 3/100\n",
            "35/35 [==============================] - 1s 17ms/step - loss: 1.1380 - department_output_loss: 0.5927 - attrition_output_loss: 0.5452 - department_output_accuracy: 0.6443 - attrition_output_accuracy: 0.8566 - val_loss: 1.2739 - val_department_output_loss: 0.6232 - val_attrition_output_loss: 0.6507 - val_department_output_accuracy: 0.6603 - val_attrition_output_accuracy: 0.8207\n",
            "Epoch 4/100\n",
            "35/35 [==============================] - 0s 11ms/step - loss: 1.0588 - department_output_loss: 0.5664 - attrition_output_loss: 0.4924 - department_output_accuracy: 0.6452 - attrition_output_accuracy: 0.8621 - val_loss: 1.3223 - val_department_output_loss: 0.6021 - val_attrition_output_loss: 0.7202 - val_department_output_accuracy: 0.6522 - val_attrition_output_accuracy: 0.8370\n",
            "Epoch 5/100\n",
            "35/35 [==============================] - 0s 10ms/step - loss: 1.0261 - department_output_loss: 0.5563 - attrition_output_loss: 0.4698 - department_output_accuracy: 0.6443 - attrition_output_accuracy: 0.8612 - val_loss: 1.4498 - val_department_output_loss: 0.6481 - val_attrition_output_loss: 0.8017 - val_department_output_accuracy: 0.6793 - val_attrition_output_accuracy: 0.8207\n",
            "Epoch 6/100\n",
            "35/35 [==============================] - 0s 12ms/step - loss: 1.0856 - department_output_loss: 0.5567 - attrition_output_loss: 0.5290 - department_output_accuracy: 0.6470 - attrition_output_accuracy: 0.8684 - val_loss: 1.3863 - val_department_output_loss: 0.6406 - val_attrition_output_loss: 0.7457 - val_department_output_accuracy: 0.6685 - val_attrition_output_accuracy: 0.8261\n",
            "Epoch 7/100\n",
            "35/35 [==============================] - 0s 12ms/step - loss: 1.0992 - department_output_loss: 0.5615 - attrition_output_loss: 0.5377 - department_output_accuracy: 0.6452 - attrition_output_accuracy: 0.8639 - val_loss: 1.5834 - val_department_output_loss: 0.6621 - val_attrition_output_loss: 0.9214 - val_department_output_accuracy: 0.6793 - val_attrition_output_accuracy: 0.8234\n",
            "Epoch 8/100\n",
            "35/35 [==============================] - 1s 15ms/step - loss: 1.0562 - department_output_loss: 0.5448 - attrition_output_loss: 0.5115 - department_output_accuracy: 0.6497 - attrition_output_accuracy: 0.8621 - val_loss: 1.5850 - val_department_output_loss: 0.6969 - val_attrition_output_loss: 0.8881 - val_department_output_accuracy: 0.6766 - val_attrition_output_accuracy: 0.8207\n",
            "Epoch 9/100\n",
            "35/35 [==============================] - 1s 18ms/step - loss: 1.0274 - department_output_loss: 0.5352 - attrition_output_loss: 0.4922 - department_output_accuracy: 0.6525 - attrition_output_accuracy: 0.8666 - val_loss: 1.6105 - val_department_output_loss: 0.6674 - val_attrition_output_loss: 0.9432 - val_department_output_accuracy: 0.6549 - val_attrition_output_accuracy: 0.8288\n",
            "Epoch 10/100\n",
            "35/35 [==============================] - 1s 20ms/step - loss: 0.9792 - department_output_loss: 0.5293 - attrition_output_loss: 0.4499 - department_output_accuracy: 0.6561 - attrition_output_accuracy: 0.8702 - val_loss: 1.5675 - val_department_output_loss: 0.6821 - val_attrition_output_loss: 0.8854 - val_department_output_accuracy: 0.6766 - val_attrition_output_accuracy: 0.8261\n",
            "Epoch 11/100\n",
            "35/35 [==============================] - 1s 33ms/step - loss: 0.9711 - department_output_loss: 0.5271 - attrition_output_loss: 0.4440 - department_output_accuracy: 0.6597 - attrition_output_accuracy: 0.8757 - val_loss: 1.6545 - val_department_output_loss: 0.7432 - val_attrition_output_loss: 0.9113 - val_department_output_accuracy: 0.6793 - val_attrition_output_accuracy: 0.8315\n",
            "Epoch 12/100\n",
            "35/35 [==============================] - 1s 29ms/step - loss: 0.9400 - department_output_loss: 0.5214 - attrition_output_loss: 0.4185 - department_output_accuracy: 0.6506 - attrition_output_accuracy: 0.8838 - val_loss: 1.5776 - val_department_output_loss: 0.6535 - val_attrition_output_loss: 0.9241 - val_department_output_accuracy: 0.6250 - val_attrition_output_accuracy: 0.8152\n",
            "Epoch 13/100\n",
            "35/35 [==============================] - 1s 25ms/step - loss: 0.9377 - department_output_loss: 0.5153 - attrition_output_loss: 0.4224 - department_output_accuracy: 0.6670 - attrition_output_accuracy: 0.8702 - val_loss: 1.6342 - val_department_output_loss: 0.6890 - val_attrition_output_loss: 0.9452 - val_department_output_accuracy: 0.6793 - val_attrition_output_accuracy: 0.8288\n",
            "Epoch 14/100\n",
            "35/35 [==============================] - 1s 18ms/step - loss: 0.9021 - department_output_loss: 0.5161 - attrition_output_loss: 0.3861 - department_output_accuracy: 0.6597 - attrition_output_accuracy: 0.8838 - val_loss: 1.7275 - val_department_output_loss: 0.7508 - val_attrition_output_loss: 0.9767 - val_department_output_accuracy: 0.6821 - val_attrition_output_accuracy: 0.8261\n",
            "Epoch 15/100\n",
            "35/35 [==============================] - 0s 12ms/step - loss: 0.9375 - department_output_loss: 0.5043 - attrition_output_loss: 0.4331 - department_output_accuracy: 0.6633 - attrition_output_accuracy: 0.8775 - val_loss: 1.6920 - val_department_output_loss: 0.7170 - val_attrition_output_loss: 0.9750 - val_department_output_accuracy: 0.6658 - val_attrition_output_accuracy: 0.8152\n",
            "Epoch 16/100\n",
            "35/35 [==============================] - 1s 21ms/step - loss: 0.8810 - department_output_loss: 0.5012 - attrition_output_loss: 0.3797 - department_output_accuracy: 0.6642 - attrition_output_accuracy: 0.8884 - val_loss: 1.9493 - val_department_output_loss: 0.7227 - val_attrition_output_loss: 1.2266 - val_department_output_accuracy: 0.6549 - val_attrition_output_accuracy: 0.8234\n",
            "Epoch 17/100\n",
            "35/35 [==============================] - 1s 16ms/step - loss: 0.8669 - department_output_loss: 0.4932 - attrition_output_loss: 0.3737 - department_output_accuracy: 0.6851 - attrition_output_accuracy: 0.8866 - val_loss: 1.8933 - val_department_output_loss: 0.7601 - val_attrition_output_loss: 1.1332 - val_department_output_accuracy: 0.6549 - val_attrition_output_accuracy: 0.8207\n",
            "Epoch 18/100\n",
            "35/35 [==============================] - 0s 13ms/step - loss: 0.8516 - department_output_loss: 0.4860 - attrition_output_loss: 0.3657 - department_output_accuracy: 0.6842 - attrition_output_accuracy: 0.8866 - val_loss: 1.8446 - val_department_output_loss: 0.7664 - val_attrition_output_loss: 1.0782 - val_department_output_accuracy: 0.6495 - val_attrition_output_accuracy: 0.8288\n",
            "Epoch 19/100\n",
            "35/35 [==============================] - 1s 17ms/step - loss: 0.8422 - department_output_loss: 0.4803 - attrition_output_loss: 0.3619 - department_output_accuracy: 0.6924 - attrition_output_accuracy: 0.8938 - val_loss: 1.7769 - val_department_output_loss: 0.7291 - val_attrition_output_loss: 1.0477 - val_department_output_accuracy: 0.6196 - val_attrition_output_accuracy: 0.8261\n",
            "Epoch 20/100\n",
            "35/35 [==============================] - 1s 20ms/step - loss: 0.8166 - department_output_loss: 0.4776 - attrition_output_loss: 0.3390 - department_output_accuracy: 0.6942 - attrition_output_accuracy: 0.8920 - val_loss: 1.9290 - val_department_output_loss: 0.7393 - val_attrition_output_loss: 1.1898 - val_department_output_accuracy: 0.6033 - val_attrition_output_accuracy: 0.8179\n",
            "Epoch 21/100\n",
            "35/35 [==============================] - 1s 20ms/step - loss: 0.7957 - department_output_loss: 0.4740 - attrition_output_loss: 0.3217 - department_output_accuracy: 0.7151 - attrition_output_accuracy: 0.9029 - val_loss: 2.1033 - val_department_output_loss: 0.8586 - val_attrition_output_loss: 1.2447 - val_department_output_accuracy: 0.6522 - val_attrition_output_accuracy: 0.8315\n",
            "Epoch 22/100\n",
            "35/35 [==============================] - 0s 10ms/step - loss: 1.0630 - department_output_loss: 0.4692 - attrition_output_loss: 0.5938 - department_output_accuracy: 0.6924 - attrition_output_accuracy: 0.8575 - val_loss: 1.9654 - val_department_output_loss: 0.8018 - val_attrition_output_loss: 1.1636 - val_department_output_accuracy: 0.6060 - val_attrition_output_accuracy: 0.7962\n",
            "Epoch 23/100\n",
            "35/35 [==============================] - 1s 17ms/step - loss: 0.9835 - department_output_loss: 0.5144 - attrition_output_loss: 0.4691 - department_output_accuracy: 0.6860 - attrition_output_accuracy: 0.8603 - val_loss: 2.2614 - val_department_output_loss: 1.3134 - val_attrition_output_loss: 0.9480 - val_department_output_accuracy: 0.4565 - val_attrition_output_accuracy: 0.7989\n",
            "Epoch 24/100\n",
            "35/35 [==============================] - 0s 11ms/step - loss: 1.2783 - department_output_loss: 0.8038 - attrition_output_loss: 0.4745 - department_output_accuracy: 0.5989 - attrition_output_accuracy: 0.8711 - val_loss: 2.1036 - val_department_output_loss: 0.9977 - val_attrition_output_loss: 1.1060 - val_department_output_accuracy: 0.6304 - val_attrition_output_accuracy: 0.8315\n",
            "Epoch 25/100\n",
            "35/35 [==============================] - 0s 14ms/step - loss: 0.9476 - department_output_loss: 0.5667 - attrition_output_loss: 0.3810 - department_output_accuracy: 0.6534 - attrition_output_accuracy: 0.8947 - val_loss: 1.7206 - val_department_output_loss: 0.7172 - val_attrition_output_loss: 1.0034 - val_department_output_accuracy: 0.6359 - val_attrition_output_accuracy: 0.8288\n",
            "Epoch 26/100\n",
            "35/35 [==============================] - 0s 12ms/step - loss: 0.8613 - department_output_loss: 0.5040 - attrition_output_loss: 0.3573 - department_output_accuracy: 0.6697 - attrition_output_accuracy: 0.8929 - val_loss: 1.6687 - val_department_output_loss: 0.6971 - val_attrition_output_loss: 0.9716 - val_department_output_accuracy: 0.6114 - val_attrition_output_accuracy: 0.7962\n",
            "Epoch 27/100\n",
            "35/35 [==============================] - 0s 12ms/step - loss: 0.8714 - department_output_loss: 0.4873 - attrition_output_loss: 0.3841 - department_output_accuracy: 0.6779 - attrition_output_accuracy: 0.8920 - val_loss: 1.8694 - val_department_output_loss: 0.7809 - val_attrition_output_loss: 1.0884 - val_department_output_accuracy: 0.6630 - val_attrition_output_accuracy: 0.8261\n",
            "Epoch 28/100\n",
            "35/35 [==============================] - 0s 11ms/step - loss: 0.8696 - department_output_loss: 0.5333 - attrition_output_loss: 0.3363 - department_output_accuracy: 0.6706 - attrition_output_accuracy: 0.8956 - val_loss: 2.0303 - val_department_output_loss: 0.8439 - val_attrition_output_loss: 1.1863 - val_department_output_accuracy: 0.6576 - val_attrition_output_accuracy: 0.8261\n",
            "Epoch 29/100\n",
            "35/35 [==============================] - 0s 14ms/step - loss: 0.8014 - department_output_loss: 0.4867 - attrition_output_loss: 0.3147 - department_output_accuracy: 0.6878 - attrition_output_accuracy: 0.9038 - val_loss: 2.0364 - val_department_output_loss: 0.8029 - val_attrition_output_loss: 1.2335 - val_department_output_accuracy: 0.6712 - val_attrition_output_accuracy: 0.8234\n",
            "Epoch 30/100\n",
            "35/35 [==============================] - 1s 14ms/step - loss: 0.7662 - department_output_loss: 0.4665 - attrition_output_loss: 0.2996 - department_output_accuracy: 0.6869 - attrition_output_accuracy: 0.9038 - val_loss: 1.9723 - val_department_output_loss: 0.7204 - val_attrition_output_loss: 1.2519 - val_department_output_accuracy: 0.6467 - val_attrition_output_accuracy: 0.8261\n",
            "Epoch 31/100\n",
            "35/35 [==============================] - 1s 19ms/step - loss: 0.7382 - department_output_loss: 0.4505 - attrition_output_loss: 0.2877 - department_output_accuracy: 0.6951 - attrition_output_accuracy: 0.9074 - val_loss: 2.0770 - val_department_output_loss: 0.8155 - val_attrition_output_loss: 1.2614 - val_department_output_accuracy: 0.6495 - val_attrition_output_accuracy: 0.8234\n",
            "Epoch 32/100\n",
            "35/35 [==============================] - 1s 17ms/step - loss: 0.7206 - department_output_loss: 0.4398 - attrition_output_loss: 0.2808 - department_output_accuracy: 0.6951 - attrition_output_accuracy: 0.9083 - val_loss: 2.0208 - val_department_output_loss: 0.8086 - val_attrition_output_loss: 1.2123 - val_department_output_accuracy: 0.6495 - val_attrition_output_accuracy: 0.8234\n",
            "Epoch 33/100\n",
            "35/35 [==============================] - 1s 16ms/step - loss: 0.7047 - department_output_loss: 0.4328 - attrition_output_loss: 0.2720 - department_output_accuracy: 0.7060 - attrition_output_accuracy: 0.9129 - val_loss: 2.0898 - val_department_output_loss: 0.7899 - val_attrition_output_loss: 1.2999 - val_department_output_accuracy: 0.6277 - val_attrition_output_accuracy: 0.8234\n",
            "Epoch 34/100\n",
            "35/35 [==============================] - 1s 17ms/step - loss: 0.6909 - department_output_loss: 0.4262 - attrition_output_loss: 0.2646 - department_output_accuracy: 0.7142 - attrition_output_accuracy: 0.9183 - val_loss: 2.1981 - val_department_output_loss: 0.8565 - val_attrition_output_loss: 1.3416 - val_department_output_accuracy: 0.6386 - val_attrition_output_accuracy: 0.8234\n",
            "Epoch 35/100\n",
            "35/35 [==============================] - 1s 20ms/step - loss: 0.6773 - department_output_loss: 0.4191 - attrition_output_loss: 0.2582 - department_output_accuracy: 0.7096 - attrition_output_accuracy: 0.9147 - val_loss: 2.2779 - val_department_output_loss: 0.8110 - val_attrition_output_loss: 1.4669 - val_department_output_accuracy: 0.6168 - val_attrition_output_accuracy: 0.8288\n",
            "Epoch 36/100\n",
            "35/35 [==============================] - 1s 18ms/step - loss: 0.6754 - department_output_loss: 0.4109 - attrition_output_loss: 0.2645 - department_output_accuracy: 0.7260 - attrition_output_accuracy: 0.9129 - val_loss: 2.3702 - val_department_output_loss: 0.9008 - val_attrition_output_loss: 1.4694 - val_department_output_accuracy: 0.6277 - val_attrition_output_accuracy: 0.8288\n",
            "Epoch 37/100\n",
            "35/35 [==============================] - 0s 9ms/step - loss: 0.6559 - department_output_loss: 0.4050 - attrition_output_loss: 0.2510 - department_output_accuracy: 0.7432 - attrition_output_accuracy: 0.9165 - val_loss: 2.4122 - val_department_output_loss: 0.8716 - val_attrition_output_loss: 1.5406 - val_department_output_accuracy: 0.6250 - val_attrition_output_accuracy: 0.8288\n",
            "Epoch 38/100\n",
            "35/35 [==============================] - 0s 14ms/step - loss: 0.6419 - department_output_loss: 0.3977 - attrition_output_loss: 0.2442 - department_output_accuracy: 0.7414 - attrition_output_accuracy: 0.9165 - val_loss: 2.4076 - val_department_output_loss: 0.8663 - val_attrition_output_loss: 1.5412 - val_department_output_accuracy: 0.6250 - val_attrition_output_accuracy: 0.8261\n",
            "Epoch 39/100\n",
            "35/35 [==============================] - 0s 10ms/step - loss: 0.6307 - department_output_loss: 0.3900 - attrition_output_loss: 0.2408 - department_output_accuracy: 0.7414 - attrition_output_accuracy: 0.9256 - val_loss: 2.5009 - val_department_output_loss: 0.9265 - val_attrition_output_loss: 1.5745 - val_department_output_accuracy: 0.6196 - val_attrition_output_accuracy: 0.8261\n",
            "Epoch 40/100\n",
            "35/35 [==============================] - 0s 8ms/step - loss: 0.6209 - department_output_loss: 0.3843 - attrition_output_loss: 0.2366 - department_output_accuracy: 0.7604 - attrition_output_accuracy: 0.9229 - val_loss: 2.5112 - val_department_output_loss: 0.9632 - val_attrition_output_loss: 1.5480 - val_department_output_accuracy: 0.6223 - val_attrition_output_accuracy: 0.8179\n",
            "Epoch 41/100\n",
            "35/35 [==============================] - 0s 12ms/step - loss: 0.6077 - department_output_loss: 0.3773 - attrition_output_loss: 0.2304 - department_output_accuracy: 0.7577 - attrition_output_accuracy: 0.9238 - val_loss: 2.5861 - val_department_output_loss: 1.0346 - val_attrition_output_loss: 1.5516 - val_department_output_accuracy: 0.6250 - val_attrition_output_accuracy: 0.8098\n",
            "Epoch 42/100\n",
            "35/35 [==============================] - 0s 11ms/step - loss: 0.6023 - department_output_loss: 0.3712 - attrition_output_loss: 0.2311 - department_output_accuracy: 0.7659 - attrition_output_accuracy: 0.9192 - val_loss: 2.5235 - val_department_output_loss: 1.0344 - val_attrition_output_loss: 1.4891 - val_department_output_accuracy: 0.6196 - val_attrition_output_accuracy: 0.8098\n",
            "Epoch 43/100\n",
            "35/35 [==============================] - 0s 10ms/step - loss: 0.5786 - department_output_loss: 0.3652 - attrition_output_loss: 0.2134 - department_output_accuracy: 0.7641 - attrition_output_accuracy: 0.9356 - val_loss: 2.7328 - val_department_output_loss: 1.0877 - val_attrition_output_loss: 1.6450 - val_department_output_accuracy: 0.6440 - val_attrition_output_accuracy: 0.8288\n",
            "Epoch 44/100\n",
            "35/35 [==============================] - 1s 17ms/step - loss: 0.5698 - department_output_loss: 0.3592 - attrition_output_loss: 0.2106 - department_output_accuracy: 0.7686 - attrition_output_accuracy: 0.9301 - val_loss: 2.6133 - val_department_output_loss: 0.9906 - val_attrition_output_loss: 1.6227 - val_department_output_accuracy: 0.5761 - val_attrition_output_accuracy: 0.8179\n",
            "Epoch 45/100\n",
            "35/35 [==============================] - 0s 9ms/step - loss: 0.5582 - department_output_loss: 0.3557 - attrition_output_loss: 0.2025 - department_output_accuracy: 0.7904 - attrition_output_accuracy: 0.9428 - val_loss: 2.7550 - val_department_output_loss: 1.1026 - val_attrition_output_loss: 1.6525 - val_department_output_accuracy: 0.6196 - val_attrition_output_accuracy: 0.8234\n",
            "Epoch 46/100\n",
            "35/35 [==============================] - 0s 6ms/step - loss: 0.5432 - department_output_loss: 0.3422 - attrition_output_loss: 0.2010 - department_output_accuracy: 0.7777 - attrition_output_accuracy: 0.9446 - val_loss: 2.8326 - val_department_output_loss: 1.1090 - val_attrition_output_loss: 1.7236 - val_department_output_accuracy: 0.6033 - val_attrition_output_accuracy: 0.8125\n",
            "Epoch 47/100\n",
            "35/35 [==============================] - 0s 5ms/step - loss: 0.5301 - department_output_loss: 0.3347 - attrition_output_loss: 0.1954 - department_output_accuracy: 0.7922 - attrition_output_accuracy: 0.9437 - val_loss: 2.8499 - val_department_output_loss: 1.1596 - val_attrition_output_loss: 1.6903 - val_department_output_accuracy: 0.6196 - val_attrition_output_accuracy: 0.8152\n",
            "Epoch 48/100\n",
            "35/35 [==============================] - 0s 6ms/step - loss: 0.5173 - department_output_loss: 0.3294 - attrition_output_loss: 0.1879 - department_output_accuracy: 0.7967 - attrition_output_accuracy: 0.9437 - val_loss: 2.8506 - val_department_output_loss: 1.1829 - val_attrition_output_loss: 1.6678 - val_department_output_accuracy: 0.6250 - val_attrition_output_accuracy: 0.7962\n",
            "Epoch 49/100\n",
            "35/35 [==============================] - 0s 5ms/step - loss: 0.5089 - department_output_loss: 0.3218 - attrition_output_loss: 0.1870 - department_output_accuracy: 0.8022 - attrition_output_accuracy: 0.9501 - val_loss: 2.9519 - val_department_output_loss: 1.1773 - val_attrition_output_loss: 1.7747 - val_department_output_accuracy: 0.6114 - val_attrition_output_accuracy: 0.8016\n",
            "Epoch 50/100\n",
            "35/35 [==============================] - 0s 6ms/step - loss: 0.4987 - department_output_loss: 0.3160 - attrition_output_loss: 0.1827 - department_output_accuracy: 0.8122 - attrition_output_accuracy: 0.9483 - val_loss: 3.0110 - val_department_output_loss: 1.2342 - val_attrition_output_loss: 1.7768 - val_department_output_accuracy: 0.5951 - val_attrition_output_accuracy: 0.8016\n",
            "Epoch 51/100\n",
            "35/35 [==============================] - 0s 6ms/step - loss: 0.4889 - department_output_loss: 0.3115 - attrition_output_loss: 0.1774 - department_output_accuracy: 0.8122 - attrition_output_accuracy: 0.9546 - val_loss: 3.0276 - val_department_output_loss: 1.2342 - val_attrition_output_loss: 1.7935 - val_department_output_accuracy: 0.6440 - val_attrition_output_accuracy: 0.7962\n",
            "Epoch 52/100\n",
            "35/35 [==============================] - 0s 6ms/step - loss: 0.4830 - department_output_loss: 0.3071 - attrition_output_loss: 0.1758 - department_output_accuracy: 0.8249 - attrition_output_accuracy: 0.9546 - val_loss: 3.0746 - val_department_output_loss: 1.2791 - val_attrition_output_loss: 1.7955 - val_department_output_accuracy: 0.6332 - val_attrition_output_accuracy: 0.7962\n",
            "Epoch 53/100\n",
            "35/35 [==============================] - 0s 5ms/step - loss: 0.4658 - department_output_loss: 0.2935 - attrition_output_loss: 0.1723 - department_output_accuracy: 0.8330 - attrition_output_accuracy: 0.9492 - val_loss: 3.1198 - val_department_output_loss: 1.2690 - val_attrition_output_loss: 1.8508 - val_department_output_accuracy: 0.6250 - val_attrition_output_accuracy: 0.8043\n",
            "Epoch 54/100\n",
            "35/35 [==============================] - 0s 5ms/step - loss: 0.4557 - department_output_loss: 0.2872 - attrition_output_loss: 0.1685 - department_output_accuracy: 0.8367 - attrition_output_accuracy: 0.9574 - val_loss: 3.2420 - val_department_output_loss: 1.3862 - val_attrition_output_loss: 1.8558 - val_department_output_accuracy: 0.5978 - val_attrition_output_accuracy: 0.7989\n",
            "Epoch 55/100\n",
            "35/35 [==============================] - 0s 5ms/step - loss: 0.4410 - department_output_loss: 0.2785 - attrition_output_loss: 0.1624 - department_output_accuracy: 0.8494 - attrition_output_accuracy: 0.9610 - val_loss: 3.2069 - val_department_output_loss: 1.3149 - val_attrition_output_loss: 1.8920 - val_department_output_accuracy: 0.6168 - val_attrition_output_accuracy: 0.7908\n",
            "Epoch 56/100\n",
            "35/35 [==============================] - 0s 5ms/step - loss: 0.4351 - department_output_loss: 0.2743 - attrition_output_loss: 0.1607 - department_output_accuracy: 0.8539 - attrition_output_accuracy: 0.9574 - val_loss: 3.1791 - val_department_output_loss: 1.3509 - val_attrition_output_loss: 1.8282 - val_department_output_accuracy: 0.5734 - val_attrition_output_accuracy: 0.7799\n",
            "Epoch 57/100\n",
            "35/35 [==============================] - 0s 6ms/step - loss: 0.4298 - department_output_loss: 0.2680 - attrition_output_loss: 0.1618 - department_output_accuracy: 0.8575 - attrition_output_accuracy: 0.9574 - val_loss: 3.2921 - val_department_output_loss: 1.4051 - val_attrition_output_loss: 1.8870 - val_department_output_accuracy: 0.6196 - val_attrition_output_accuracy: 0.7989\n",
            "Epoch 58/100\n",
            "35/35 [==============================] - 0s 5ms/step - loss: 0.4154 - department_output_loss: 0.2602 - attrition_output_loss: 0.1552 - department_output_accuracy: 0.8711 - attrition_output_accuracy: 0.9601 - val_loss: 3.3029 - val_department_output_loss: 1.3931 - val_attrition_output_loss: 1.9097 - val_department_output_accuracy: 0.5978 - val_attrition_output_accuracy: 0.8016\n",
            "Epoch 59/100\n",
            "35/35 [==============================] - 0s 5ms/step - loss: 0.4058 - department_output_loss: 0.2517 - attrition_output_loss: 0.1541 - department_output_accuracy: 0.8711 - attrition_output_accuracy: 0.9610 - val_loss: 3.3631 - val_department_output_loss: 1.4884 - val_attrition_output_loss: 1.8748 - val_department_output_accuracy: 0.6168 - val_attrition_output_accuracy: 0.7908\n",
            "Epoch 60/100\n",
            "35/35 [==============================] - 0s 5ms/step - loss: 0.3944 - department_output_loss: 0.2462 - attrition_output_loss: 0.1482 - department_output_accuracy: 0.8748 - attrition_output_accuracy: 0.9655 - val_loss: 3.3499 - val_department_output_loss: 1.4256 - val_attrition_output_loss: 1.9243 - val_department_output_accuracy: 0.5870 - val_attrition_output_accuracy: 0.7799\n",
            "Epoch 61/100\n",
            "35/35 [==============================] - 0s 6ms/step - loss: 0.3755 - department_output_loss: 0.2370 - attrition_output_loss: 0.1386 - department_output_accuracy: 0.8838 - attrition_output_accuracy: 0.9701 - val_loss: 3.5274 - val_department_output_loss: 1.4910 - val_attrition_output_loss: 2.0364 - val_department_output_accuracy: 0.5897 - val_attrition_output_accuracy: 0.7853\n",
            "Epoch 62/100\n",
            "35/35 [==============================] - 0s 6ms/step - loss: 0.3690 - department_output_loss: 0.2293 - attrition_output_loss: 0.1398 - department_output_accuracy: 0.8966 - attrition_output_accuracy: 0.9673 - val_loss: 3.6378 - val_department_output_loss: 1.6154 - val_attrition_output_loss: 2.0224 - val_department_output_accuracy: 0.6196 - val_attrition_output_accuracy: 0.7935\n",
            "Epoch 63/100\n",
            "35/35 [==============================] - 0s 5ms/step - loss: 0.3553 - department_output_loss: 0.2255 - attrition_output_loss: 0.1298 - department_output_accuracy: 0.8966 - attrition_output_accuracy: 0.9691 - val_loss: 3.7418 - val_department_output_loss: 1.6323 - val_attrition_output_loss: 2.1095 - val_department_output_accuracy: 0.6168 - val_attrition_output_accuracy: 0.7908\n",
            "Epoch 64/100\n",
            "35/35 [==============================] - 0s 5ms/step - loss: 0.3376 - department_output_loss: 0.2158 - attrition_output_loss: 0.1218 - department_output_accuracy: 0.9093 - attrition_output_accuracy: 0.9728 - val_loss: 3.6780 - val_department_output_loss: 1.6211 - val_attrition_output_loss: 2.0569 - val_department_output_accuracy: 0.5897 - val_attrition_output_accuracy: 0.7826\n",
            "Epoch 65/100\n",
            "35/35 [==============================] - 0s 6ms/step - loss: 0.3275 - department_output_loss: 0.2093 - attrition_output_loss: 0.1182 - department_output_accuracy: 0.9156 - attrition_output_accuracy: 0.9728 - val_loss: 3.7023 - val_department_output_loss: 1.6135 - val_attrition_output_loss: 2.0888 - val_department_output_accuracy: 0.5924 - val_attrition_output_accuracy: 0.7799\n",
            "Epoch 66/100\n",
            "35/35 [==============================] - 0s 5ms/step - loss: 0.3180 - department_output_loss: 0.2022 - attrition_output_loss: 0.1159 - department_output_accuracy: 0.9183 - attrition_output_accuracy: 0.9737 - val_loss: 3.7566 - val_department_output_loss: 1.6462 - val_attrition_output_loss: 2.1104 - val_department_output_accuracy: 0.5924 - val_attrition_output_accuracy: 0.7772\n",
            "Epoch 67/100\n",
            "35/35 [==============================] - 0s 5ms/step - loss: 0.3090 - department_output_loss: 0.1964 - attrition_output_loss: 0.1126 - department_output_accuracy: 0.9247 - attrition_output_accuracy: 0.9773 - val_loss: 3.7919 - val_department_output_loss: 1.6818 - val_attrition_output_loss: 2.1101 - val_department_output_accuracy: 0.5897 - val_attrition_output_accuracy: 0.7880\n",
            "Epoch 68/100\n",
            "35/35 [==============================] - 0s 5ms/step - loss: 0.3041 - department_output_loss: 0.1912 - attrition_output_loss: 0.1129 - department_output_accuracy: 0.9256 - attrition_output_accuracy: 0.9782 - val_loss: 3.7305 - val_department_output_loss: 1.6940 - val_attrition_output_loss: 2.0365 - val_department_output_accuracy: 0.5761 - val_attrition_output_accuracy: 0.7717\n",
            "Epoch 69/100\n",
            "35/35 [==============================] - 0s 5ms/step - loss: 0.2973 - department_output_loss: 0.1873 - attrition_output_loss: 0.1101 - department_output_accuracy: 0.9274 - attrition_output_accuracy: 0.9791 - val_loss: 3.7713 - val_department_output_loss: 1.7077 - val_attrition_output_loss: 2.0636 - val_department_output_accuracy: 0.5951 - val_attrition_output_accuracy: 0.7745\n",
            "Epoch 70/100\n",
            "35/35 [==============================] - 0s 6ms/step - loss: 0.2831 - department_output_loss: 0.1759 - attrition_output_loss: 0.1072 - department_output_accuracy: 0.9465 - attrition_output_accuracy: 0.9782 - val_loss: 4.0058 - val_department_output_loss: 1.8360 - val_attrition_output_loss: 2.1698 - val_department_output_accuracy: 0.5815 - val_attrition_output_accuracy: 0.7745\n",
            "Epoch 71/100\n",
            "35/35 [==============================] - 0s 6ms/step - loss: 0.2880 - department_output_loss: 0.1862 - attrition_output_loss: 0.1018 - department_output_accuracy: 0.9328 - attrition_output_accuracy: 0.9819 - val_loss: 4.0244 - val_department_output_loss: 1.8064 - val_attrition_output_loss: 2.2180 - val_department_output_accuracy: 0.5924 - val_attrition_output_accuracy: 0.7663\n",
            "Epoch 72/100\n",
            "35/35 [==============================] - 0s 5ms/step - loss: 0.2780 - department_output_loss: 0.1750 - attrition_output_loss: 0.1031 - department_output_accuracy: 0.9446 - attrition_output_accuracy: 0.9819 - val_loss: 4.0012 - val_department_output_loss: 1.8076 - val_attrition_output_loss: 2.1936 - val_department_output_accuracy: 0.5788 - val_attrition_output_accuracy: 0.7717\n",
            "Epoch 73/100\n",
            "35/35 [==============================] - 0s 6ms/step - loss: 0.2681 - department_output_loss: 0.1634 - attrition_output_loss: 0.1047 - department_output_accuracy: 0.9537 - attrition_output_accuracy: 0.9800 - val_loss: 4.1961 - val_department_output_loss: 1.9264 - val_attrition_output_loss: 2.2697 - val_department_output_accuracy: 0.5897 - val_attrition_output_accuracy: 0.7772\n",
            "Epoch 74/100\n",
            "35/35 [==============================] - 0s 5ms/step - loss: 0.2607 - department_output_loss: 0.1621 - attrition_output_loss: 0.0986 - department_output_accuracy: 0.9428 - attrition_output_accuracy: 0.9846 - val_loss: 4.0302 - val_department_output_loss: 1.8106 - val_attrition_output_loss: 2.2196 - val_department_output_accuracy: 0.5951 - val_attrition_output_accuracy: 0.7717\n",
            "Epoch 75/100\n",
            "35/35 [==============================] - 0s 6ms/step - loss: 0.2489 - department_output_loss: 0.1528 - attrition_output_loss: 0.0960 - department_output_accuracy: 0.9555 - attrition_output_accuracy: 0.9837 - val_loss: 4.2529 - val_department_output_loss: 2.0316 - val_attrition_output_loss: 2.2213 - val_department_output_accuracy: 0.5625 - val_attrition_output_accuracy: 0.7663\n",
            "Epoch 76/100\n",
            "35/35 [==============================] - 1s 15ms/step - loss: 0.2575 - department_output_loss: 0.1620 - attrition_output_loss: 0.0955 - department_output_accuracy: 0.9555 - attrition_output_accuracy: 0.9837 - val_loss: 4.1631 - val_department_output_loss: 1.9989 - val_attrition_output_loss: 2.1642 - val_department_output_accuracy: 0.5788 - val_attrition_output_accuracy: 0.7663\n",
            "Epoch 77/100\n",
            "35/35 [==============================] - 1s 22ms/step - loss: 0.2402 - department_output_loss: 0.1470 - attrition_output_loss: 0.0932 - department_output_accuracy: 0.9555 - attrition_output_accuracy: 0.9846 - val_loss: 4.2359 - val_department_output_loss: 2.0445 - val_attrition_output_loss: 2.1915 - val_department_output_accuracy: 0.5707 - val_attrition_output_accuracy: 0.7745\n",
            "Epoch 78/100\n",
            "35/35 [==============================] - 1s 21ms/step - loss: 0.2353 - department_output_loss: 0.1430 - attrition_output_loss: 0.0923 - department_output_accuracy: 0.9537 - attrition_output_accuracy: 0.9855 - val_loss: 4.3039 - val_department_output_loss: 2.0020 - val_attrition_output_loss: 2.3020 - val_department_output_accuracy: 0.5815 - val_attrition_output_accuracy: 0.7636\n",
            "Epoch 79/100\n",
            "35/35 [==============================] - 0s 13ms/step - loss: 0.2232 - department_output_loss: 0.1336 - attrition_output_loss: 0.0896 - department_output_accuracy: 0.9610 - attrition_output_accuracy: 0.9873 - val_loss: 4.3853 - val_department_output_loss: 2.0156 - val_attrition_output_loss: 2.3697 - val_department_output_accuracy: 0.5978 - val_attrition_output_accuracy: 0.7609\n",
            "Epoch 80/100\n",
            "35/35 [==============================] - 0s 11ms/step - loss: 0.2133 - department_output_loss: 0.1287 - attrition_output_loss: 0.0846 - department_output_accuracy: 0.9664 - attrition_output_accuracy: 0.9873 - val_loss: 4.3861 - val_department_output_loss: 2.0849 - val_attrition_output_loss: 2.3013 - val_department_output_accuracy: 0.5543 - val_attrition_output_accuracy: 0.7636\n",
            "Epoch 81/100\n",
            "35/35 [==============================] - 1s 21ms/step - loss: 0.2121 - department_output_loss: 0.1260 - attrition_output_loss: 0.0861 - department_output_accuracy: 0.9710 - attrition_output_accuracy: 0.9882 - val_loss: 4.5642 - val_department_output_loss: 2.2116 - val_attrition_output_loss: 2.3526 - val_department_output_accuracy: 0.5679 - val_attrition_output_accuracy: 0.7663\n",
            "Epoch 82/100\n",
            "35/35 [==============================] - 1s 14ms/step - loss: 0.2089 - department_output_loss: 0.1262 - attrition_output_loss: 0.0828 - department_output_accuracy: 0.9646 - attrition_output_accuracy: 0.9882 - val_loss: 4.4390 - val_department_output_loss: 2.0638 - val_attrition_output_loss: 2.3752 - val_department_output_accuracy: 0.5652 - val_attrition_output_accuracy: 0.7636\n",
            "Epoch 83/100\n",
            "35/35 [==============================] - 0s 12ms/step - loss: 0.2015 - department_output_loss: 0.1194 - attrition_output_loss: 0.0821 - department_output_accuracy: 0.9728 - attrition_output_accuracy: 0.9918 - val_loss: 4.5099 - val_department_output_loss: 2.1455 - val_attrition_output_loss: 2.3644 - val_department_output_accuracy: 0.5815 - val_attrition_output_accuracy: 0.7609\n",
            "Epoch 84/100\n",
            "35/35 [==============================] - 0s 11ms/step - loss: 0.2055 - department_output_loss: 0.1190 - attrition_output_loss: 0.0864 - department_output_accuracy: 0.9664 - attrition_output_accuracy: 0.9891 - val_loss: 4.5125 - val_department_output_loss: 2.1783 - val_attrition_output_loss: 2.3342 - val_department_output_accuracy: 0.5734 - val_attrition_output_accuracy: 0.7609\n",
            "Epoch 85/100\n",
            "35/35 [==============================] - 0s 9ms/step - loss: 0.1913 - department_output_loss: 0.1126 - attrition_output_loss: 0.0787 - department_output_accuracy: 0.9755 - attrition_output_accuracy: 0.9927 - val_loss: 4.5358 - val_department_output_loss: 2.1901 - val_attrition_output_loss: 2.3457 - val_department_output_accuracy: 0.5598 - val_attrition_output_accuracy: 0.7582\n",
            "Epoch 86/100\n",
            "35/35 [==============================] - 0s 11ms/step - loss: 0.1878 - department_output_loss: 0.1100 - attrition_output_loss: 0.0778 - department_output_accuracy: 0.9764 - attrition_output_accuracy: 0.9909 - val_loss: 4.6300 - val_department_output_loss: 2.2274 - val_attrition_output_loss: 2.4026 - val_department_output_accuracy: 0.5761 - val_attrition_output_accuracy: 0.7717\n",
            "Epoch 87/100\n",
            "35/35 [==============================] - 0s 9ms/step - loss: 0.1886 - department_output_loss: 0.1107 - attrition_output_loss: 0.0779 - department_output_accuracy: 0.9764 - attrition_output_accuracy: 0.9909 - val_loss: 4.6957 - val_department_output_loss: 2.3647 - val_attrition_output_loss: 2.3310 - val_department_output_accuracy: 0.5489 - val_attrition_output_accuracy: 0.7582\n",
            "Epoch 88/100\n",
            "35/35 [==============================] - 0s 5ms/step - loss: 0.2729 - department_output_loss: 0.1950 - attrition_output_loss: 0.0779 - department_output_accuracy: 0.9555 - attrition_output_accuracy: 0.9900 - val_loss: 4.6733 - val_department_output_loss: 2.2622 - val_attrition_output_loss: 2.4111 - val_department_output_accuracy: 0.5924 - val_attrition_output_accuracy: 0.7663\n",
            "Epoch 89/100\n",
            "35/35 [==============================] - 0s 5ms/step - loss: 0.2168 - department_output_loss: 0.1359 - attrition_output_loss: 0.0809 - department_output_accuracy: 0.9628 - attrition_output_accuracy: 0.9882 - val_loss: 4.6607 - val_department_output_loss: 2.2380 - val_attrition_output_loss: 2.4226 - val_department_output_accuracy: 0.5652 - val_attrition_output_accuracy: 0.7609\n",
            "Epoch 90/100\n",
            "35/35 [==============================] - 0s 6ms/step - loss: 0.1800 - department_output_loss: 0.1041 - attrition_output_loss: 0.0759 - department_output_accuracy: 0.9764 - attrition_output_accuracy: 0.9918 - val_loss: 4.7319 - val_department_output_loss: 2.2889 - val_attrition_output_loss: 2.4430 - val_department_output_accuracy: 0.5543 - val_attrition_output_accuracy: 0.7636\n",
            "Epoch 91/100\n",
            "35/35 [==============================] - 0s 6ms/step - loss: 0.1737 - department_output_loss: 0.0984 - attrition_output_loss: 0.0753 - department_output_accuracy: 0.9773 - attrition_output_accuracy: 0.9927 - val_loss: 4.6393 - val_department_output_loss: 2.2650 - val_attrition_output_loss: 2.3742 - val_department_output_accuracy: 0.5652 - val_attrition_output_accuracy: 0.7636\n",
            "Epoch 92/100\n",
            "35/35 [==============================] - 0s 6ms/step - loss: 0.1684 - department_output_loss: 0.0959 - attrition_output_loss: 0.0725 - department_output_accuracy: 0.9773 - attrition_output_accuracy: 0.9918 - val_loss: 4.7238 - val_department_output_loss: 2.3221 - val_attrition_output_loss: 2.4016 - val_department_output_accuracy: 0.5761 - val_attrition_output_accuracy: 0.7527\n",
            "Epoch 93/100\n",
            "35/35 [==============================] - 0s 6ms/step - loss: 0.1629 - department_output_loss: 0.0918 - attrition_output_loss: 0.0711 - department_output_accuracy: 0.9828 - attrition_output_accuracy: 0.9918 - val_loss: 4.6686 - val_department_output_loss: 2.2510 - val_attrition_output_loss: 2.4176 - val_department_output_accuracy: 0.5842 - val_attrition_output_accuracy: 0.7554\n",
            "Epoch 94/100\n",
            "35/35 [==============================] - 0s 5ms/step - loss: 0.1656 - department_output_loss: 0.0951 - attrition_output_loss: 0.0705 - department_output_accuracy: 0.9809 - attrition_output_accuracy: 0.9918 - val_loss: 4.7629 - val_department_output_loss: 2.2937 - val_attrition_output_loss: 2.4692 - val_department_output_accuracy: 0.5788 - val_attrition_output_accuracy: 0.7554\n",
            "Epoch 95/100\n",
            "35/35 [==============================] - 0s 5ms/step - loss: 0.1935 - department_output_loss: 0.1224 - attrition_output_loss: 0.0710 - department_output_accuracy: 0.9755 - attrition_output_accuracy: 0.9918 - val_loss: 5.0223 - val_department_output_loss: 2.4478 - val_attrition_output_loss: 2.5745 - val_department_output_accuracy: 0.5598 - val_attrition_output_accuracy: 0.7609\n",
            "Epoch 96/100\n",
            "35/35 [==============================] - 0s 6ms/step - loss: 0.1901 - department_output_loss: 0.1158 - attrition_output_loss: 0.0744 - department_output_accuracy: 0.9719 - attrition_output_accuracy: 0.9891 - val_loss: 4.9005 - val_department_output_loss: 2.3424 - val_attrition_output_loss: 2.5581 - val_department_output_accuracy: 0.5516 - val_attrition_output_accuracy: 0.7582\n",
            "Epoch 97/100\n",
            "35/35 [==============================] - 0s 5ms/step - loss: 0.1587 - department_output_loss: 0.0880 - attrition_output_loss: 0.0708 - department_output_accuracy: 0.9800 - attrition_output_accuracy: 0.9918 - val_loss: 4.9182 - val_department_output_loss: 2.4229 - val_attrition_output_loss: 2.4953 - val_department_output_accuracy: 0.5625 - val_attrition_output_accuracy: 0.7609\n",
            "Epoch 98/100\n",
            "35/35 [==============================] - 0s 5ms/step - loss: 0.1537 - department_output_loss: 0.0838 - attrition_output_loss: 0.0700 - department_output_accuracy: 0.9837 - attrition_output_accuracy: 0.9918 - val_loss: 4.9607 - val_department_output_loss: 2.4438 - val_attrition_output_loss: 2.5169 - val_department_output_accuracy: 0.5788 - val_attrition_output_accuracy: 0.7609\n",
            "Epoch 99/100\n",
            "35/35 [==============================] - 0s 6ms/step - loss: 0.1481 - department_output_loss: 0.0793 - attrition_output_loss: 0.0688 - department_output_accuracy: 0.9864 - attrition_output_accuracy: 0.9927 - val_loss: 4.7838 - val_department_output_loss: 2.3334 - val_attrition_output_loss: 2.4504 - val_department_output_accuracy: 0.5625 - val_attrition_output_accuracy: 0.7554\n",
            "Epoch 100/100\n",
            "35/35 [==============================] - 0s 7ms/step - loss: 0.1490 - department_output_loss: 0.0774 - attrition_output_loss: 0.0716 - department_output_accuracy: 0.9855 - attrition_output_accuracy: 0.9909 - val_loss: 4.8706 - val_department_output_loss: 2.3538 - val_attrition_output_loss: 2.5169 - val_department_output_accuracy: 0.5652 - val_attrition_output_accuracy: 0.7554\n"
          ]
        }
      ],
      "source": [
        "# Train the model\n",
        "history = nn_model.fit(X_train_scaled, [y_train_department_encoded,y_train_attrition_encoded],\n",
        "                       validation_data=(X_test_scaled, [y_test_department_encoded,y_test_attrition_encoded]),\n",
        "                       batch_size=32, epochs=100)#, verbose=1)"
      ]
    },
    {
      "cell_type": "code",
      "execution_count": 15,
      "metadata": {
        "colab": {
          "base_uri": "https://localhost:8080/",
          "height": 91
        },
        "id": "1E0nZ3RXQq7t",
        "outputId": "cac6f3f5-4bc3-40db-82dc-15340ffb2694"
      },
      "outputs": [
        {
          "output_type": "stream",
          "name": "stdout",
          "text": [
            "35/35 [==============================] - 0s 2ms/step - loss: 0.1365 - department_output_loss: 0.0719 - attrition_output_loss: 0.0646 - department_output_accuracy: 0.9882 - attrition_output_accuracy: 0.9936\n"
          ]
        },
        {
          "output_type": "display_data",
          "data": {
            "text/plain": [
              "'Department predictions accuracy: 0.988'"
            ],
            "application/vnd.google.colaboratory.intrinsic+json": {
              "type": "string"
            }
          },
          "metadata": {}
        },
        {
          "output_type": "display_data",
          "data": {
            "text/plain": [
              "'Attrition predictions accuracy: 0.994'"
            ],
            "application/vnd.google.colaboratory.intrinsic+json": {
              "type": "string"
            }
          },
          "metadata": {}
        }
      ],
      "source": [
        "# print accuracy of training data to fit\n",
        "evaluate_score_training = nn_model.evaluate(X_train_scaled,[y_train_department_encoded,y_train_attrition_encoded])\n",
        "# Print the accuracy for both department and attrition from the training data\n",
        "display(f'Department predictions accuracy: {round(evaluate_score_training[3],3)}')\n",
        "display(f'Attrition predictions accuracy: {round(evaluate_score_training[4],3)}')"
      ]
    },
    {
      "cell_type": "code",
      "execution_count": 16,
      "metadata": {
        "colab": {
          "base_uri": "https://localhost:8080/"
        },
        "id": "VsMoaQlgGc3U",
        "outputId": "4a49d8f0-2a86-43ac-9987-b1044bf0d881"
      },
      "outputs": [
        {
          "output_type": "stream",
          "name": "stdout",
          "text": [
            "12/12 - 0s - loss: 4.8706 - department_output_loss: 2.3538 - attrition_output_loss: 2.5169 - department_output_accuracy: 0.5652 - attrition_output_accuracy: 0.7554 - 49ms/epoch - 4ms/step\n"
          ]
        },
        {
          "output_type": "execute_result",
          "data": {
            "text/plain": [
              "[4.870639801025391,\n",
              " 2.353787660598755,\n",
              " 2.516852855682373,\n",
              " 0.5652173757553101,\n",
              " 0.7554348111152649]"
            ]
          },
          "metadata": {},
          "execution_count": 16
        }
      ],
      "source": [
        "# Evaluate the model with the testing data\n",
        "#loss, department_output_loss, attrition_output_loss, department_output_accuracy, attrition_output_accuracy = nn_model.evaluate(X_test_scaled,[y_test_department_encoded,y_test_attrition_encoded],verbose=2)\n",
        "evaluate_score = nn_model.evaluate(X_test_scaled,[y_test_department_encoded,y_test_attrition_encoded],verbose=2)\n",
        "evaluate_score"
      ]
    },
    {
      "cell_type": "code",
      "execution_count": 17,
      "metadata": {
        "colab": {
          "base_uri": "https://localhost:8080/",
          "height": 53
        },
        "id": "ZlCtlHi0Vt54",
        "outputId": "7e3ad39c-169f-4b44-be4a-29a933f2c0c5"
      },
      "outputs": [
        {
          "output_type": "display_data",
          "data": {
            "text/plain": [
              "'Department predictions accuracy: 0.565'"
            ],
            "application/vnd.google.colaboratory.intrinsic+json": {
              "type": "string"
            }
          },
          "metadata": {}
        },
        {
          "output_type": "display_data",
          "data": {
            "text/plain": [
              "'Attrition predictions accuracy: 0.755'"
            ],
            "application/vnd.google.colaboratory.intrinsic+json": {
              "type": "string"
            }
          },
          "metadata": {}
        }
      ],
      "source": [
        "# Print the accuracy for both department and attrition\n",
        "display(f'Department predictions accuracy: {round(evaluate_score[3],3)}')\n",
        "display(f'Attrition predictions accuracy: {round(evaluate_score[4],3)}')"
      ]
    },
    {
      "cell_type": "markdown",
      "metadata": {
        "id": "eGSyfsZfWOQM"
      },
      "source": [
        "# Summary\n",
        "\n",
        "In the provided space below, briefly answer the following questions.\n",
        "\n",
        "1. Is accuracy the best metric to use on this data? Why or why not?\n",
        "\n",
        "2. What activation functions did you choose for your output layers, and why?\n",
        "\n",
        "3. Can you name a few ways that this model might be improved?"
      ]
    },
    {
      "cell_type": "markdown",
      "metadata": {
        "id": "pi9SLpFnWvbF"
      },
      "source": [
        "# YOUR ANSWERS HERE\n",
        "\n",
        "1. Yes and no. Accuracy can tell you how well your model fits the data but it doesn't tell you if you have data leakage which will artificially increase score. The department and attrition columns are also imbalanced. The attrition rate for leaving is (133+92+12=) 237 and for staying is (828+354+51=) 1233, which is not spread across all the departments evenly. According to the class notes:\n",
        "a) You can achieve high accuracy values by \"only predicting the majority class.\"\n",
        "b) It also \"doesn’t explain which errors are being made (false positives or false negatives), and the costs of a false positive and a false negative are rarely equal in real-world situations\"\n",
        "c) And it doesn't \"take into account the certainty of the model in its calculation\"\n",
        "\n",
        "The model has a high accuracy score for the training data (> 95% for the attrition and department outputs) and a decreasing loss value with increasing epochs, but when you evaluate the testing data the accuracy gets worse with more epochs above 17 or so. In addition, the losses in the testing data never decrease. This may indicate that the model is over fitted on the training data.\n",
        "\n",
        "2. I ended up using the relu function for all the layers as this seemed to give the best accuracy score for the training data compared with using some combination of relu, sigmoid, tanh, and or softmax.\n",
        "\n",
        "3. Methods that the model can be improved by:\n",
        "a) obtaining more data.\n",
        "b) reducing the number of epochs or layers in the training to avoid overfitting.\n",
        "c) change the splitting percentage of the testing and training data.\n",
        "d) check the data quality for possible outliers or collinearity."
      ]
    },
    {
      "cell_type": "code",
      "source": [
        "# printing out the number that stay/leave in each department\n",
        "attrition_df[['Attrition','Department']].value_counts()"
      ],
      "metadata": {
        "colab": {
          "base_uri": "https://localhost:8080/"
        },
        "id": "jKvVj2eYSius",
        "outputId": "7dbd6cf4-0439-45e0-ce30-e73949644ad2"
      },
      "execution_count": 18,
      "outputs": [
        {
          "output_type": "execute_result",
          "data": {
            "text/plain": [
              "Attrition  Department            \n",
              "No         Research & Development    828\n",
              "           Sales                     354\n",
              "Yes        Research & Development    133\n",
              "           Sales                      92\n",
              "No         Human Resources            51\n",
              "Yes        Human Resources            12\n",
              "dtype: int64"
            ]
          },
          "metadata": {},
          "execution_count": 18
        }
      ]
    },
    {
      "cell_type": "code",
      "execution_count": 19,
      "metadata": {
        "colab": {
          "base_uri": "https://localhost:8080/",
          "height": 449
        },
        "id": "x8julsY5Qq7u",
        "outputId": "8e077a74-7aa0-4424-a5b9-87e84ca132d9"
      },
      "outputs": [
        {
          "output_type": "display_data",
          "data": {
            "text/plain": [
              "<Figure size 640x480 with 1 Axes>"
            ],
            "image/png": "[encoded data removed]"
          },
          "metadata": {}
        }
      ],
      "source": [
        "# plotting the traing and testing loss vs epoch\n",
        "import matplotlib.pyplot as plt\n",
        "# Get training and test loss histories\n",
        "training_loss = history.history['loss']\n",
        "test_loss = history.history['val_loss']\n",
        "\n",
        "# Create count of the number of epochs\n",
        "epoch_count = range(1, len(training_loss) + 1)\n",
        "\n",
        "# Visualize loss history\n",
        "plt.plot(epoch_count, training_loss, 'r--')\n",
        "plt.plot(epoch_count, test_loss, 'b-')\n",
        "plt.legend(['Training Loss', 'Test Loss'])\n",
        "plt.xlabel('Epoch')\n",
        "plt.ylabel('Loss')\n",
        "plt.show();"
      ]
    },
    {
      "cell_type": "code",
      "execution_count": 20,
      "metadata": {
        "colab": {
          "base_uri": "https://localhost:8080/",
          "height": 449
        },
        "id": "8caMlROkQq7u",
        "outputId": "c80b9908-0451-40df-f00c-41ae88a34661"
      },
      "outputs": [
        {
          "output_type": "display_data",
          "data": {
            "text/plain": [
              "<Figure size 640x480 with 1 Axes>"
            ],
            "image/png": "[encoded data removed]"
          },
          "metadata": {}
        }
      ],
      "source": [
        "# plotting the accuracy of the department and attriation values for the training and testing data\n",
        "# Get training and test accuracy histories\n",
        "training_department_accuracy = history.history['department_output_accuracy']\n",
        "test_department_accuracy = history.history['val_department_output_accuracy']\n",
        "training_attrition_accuracy = history.history['attrition_output_accuracy']\n",
        "test_attrition_accuracy = history.history['val_attrition_output_accuracy']\n",
        "\n",
        "# Create count of the number of epochs\n",
        "epoch_count = range(1, len(training_department_accuracy) + 1)\n",
        "\n",
        "# Visualize loss history\n",
        "plt.plot(epoch_count, training_department_accuracy, color ='dodgerblue', dashes=[1, 1])\n",
        "plt.plot(epoch_count, test_department_accuracy, color = 'dodgerblue')\n",
        "plt.plot(epoch_count, training_attrition_accuracy, color = \"darkorchid\", dashes=[1, 1])\n",
        "plt.plot(epoch_count, test_attrition_accuracy, 'darkorchid')\n",
        "plt.legend(['training_department_acc','test_department_accuracy',\n",
        "            'training_attrition_accuracy','test_attrition_accuracy'])\n",
        "plt.xlabel('Epoch')\n",
        "plt.ylabel('Accuracy')\n",
        "plt.show();"
      ]
    },
    {
      "cell_type": "markdown",
      "metadata": {
        "id": "8kPjiYzuQq7u"
      },
      "source": []
    },
    {
      "cell_type": "code",
      "execution_count": 20,
      "metadata": {
        "id": "KkMCRWOIQq7u"
      },
      "outputs": [],
      "source": []
    }
  ],
  "metadata": {
    "colab": {
      "provenance": []
    },
    "kernelspec": {
      "display_name": "Python 3 (ipykernel)",
      "language": "python",
      "name": "python3"
    },
    "language_info": {
      "codemirror_mode": {
        "name": "ipython",
        "version": 3
      },
      "file_extension": ".py",
      "mimetype": "text/x-python",
      "name": "python",
      "nbconvert_exporter": "python",
      "pygments_lexer": "ipython3",
      "version": "3.10.13"
    },
    "vscode": {
      "interpreter": {
        "hash": "31f2aee4e71d21fbe5cf8b01ff0e069b9275f58929596ceb00d14d90e3e16cd6"
      }
    }
  },
  "nbformat": 4,
  "nbformat_minor": 0
}